{
 "cells": [
  {
   "cell_type": "code",
   "execution_count": 9,
   "id": "5f80c19c",
   "metadata": {
    "scrolled": true
   },
   "outputs": [
    {
     "name": "stdout",
     "output_type": "stream",
     "text": [
      "Eth private key: 0x69d99d047508db8732e04f312c15b64860f6f79374ff035ec1c607be71d8d8d3\n",
      "\n",
      "STARK private key: 0x7faedf02e5017a0973eac623b1814e936d109ec842f6e109ec5610493c1e82b\n",
      "\n",
      "STARK (public x, public y): (0x2e0e562caf451a1c91f9adc57117d6e1a00dd039f6990e8db2b394584db6bdf,0x69362234c3fe2acf26f0aab2a8578b1f7afc52c7e323c94639d11a174719aeb)\n",
      "\n",
      "Account onboarding response:\n",
      "{'account': {'accountNumber': '0',\n",
      "             'createdAt': '2022-01-07T19:04:56.976Z',\n",
      "             'equity': '0.000000',\n",
      "             'freeCollateral': '0.000000',\n",
      "             'id': 'e85ed1d9-e1e9-5516-b823-d98b11d3ca50',\n",
      "             'openPositions': {},\n",
      "             'pendingDeposits': '0.000000',\n",
      "             'pendingWithdrawals': '0.000000',\n",
      "             'positionId': '57330',\n",
      "             'quoteBalance': '0.000000',\n",
      "             'starkKey': '02e0e562caf451a1c91f9adc57117d6e1a00dd039f6990e8db2b394584db6bdf'},\n",
      " 'apiKey': {'key': '99e1855f-ad7e-38e8-aab3-9fad0002910e',\n",
      "            'passphrase': '2oCo1f2mkp4B0QjmXEHU',\n",
      "            'secret': 'fA0iJixFDnCROybb-5r_wdlYRrU1Wtf3G4-P3xkO'},\n",
      " 'user': {'activeStakedDydxTokenBalance': '0.000000000000000000',\n",
      "          'country': None,\n",
      "          'dydxTokenBalance': '0.000000000000000000',\n",
      "          'email': None,\n",
      "          'ethereumAddress': '0x8e3f9b8a9752e5ed1af82713a5f470a73c664387',\n",
      "          'fees30D': '0',\n",
      "          'isEmailVerified': False,\n",
      "          'isRegistered': False,\n",
      "          'isSharingAddress': None,\n",
      "          'isSharingUsername': None,\n",
      "          'makerFeeRate': '0.00050',\n",
      "          'makerVolume30D': '0',\n",
      "          'referredByAffiliateLink': None,\n",
      "          'stakedDydxTokenBalance': '0.000000000000000000',\n",
      "          'takerFeeRate': '0.00100',\n",
      "          'takerVolume30D': '0',\n",
      "          'userData': {},\n",
      "          'username': None}}\n"
     ]
    }
   ],
   "source": [
    "import json\n",
    "from pprint import pprint\n",
    "import secrets as secrets_module\n",
    "\n",
    "from dydx3 import Client\n",
    "from dydx3 import private_key_to_public_key_pair_hex\n",
    "from dydx3.constants import NETWORK_ID_ROPSTEN, NETWORK_ID_MAINNET\n",
    "from dydx3.constants import API_HOST_ROPSTEN, API_HOST_MAINNET\n",
    "from web3 import Web3\n",
    "\n",
    "def generate_private_key():\n",
    "    priv = secrets_module.token_hex(32)\n",
    "    private_key = \"0x\" + priv\n",
    "    return private_key\n",
    "\n",
    "def onboard_initial_account(eth_private_key, network_id, host):\n",
    "    print(f\"Eth private key: {eth_private_key}\\n\")\n",
    "\n",
    "    dydx_client = Client(\n",
    "        network_id=network_id,\n",
    "        host=host,\n",
    "        eth_private_key=eth_private_key,\n",
    "    )\n",
    "    \n",
    "    stark_private_key = dydx_client.onboarding.derive_stark_key()\n",
    "    dydx_client.stark_private_key = stark_private_key\n",
    "    print(f\"STARK private key: {stark_private_key}\\n\")\n",
    "    \n",
    "    public_x, public_y = private_key_to_public_key_pair_hex(stark_private_key)\n",
    "    print(f\"STARK (public x, public y): ({public_x},{public_y})\\n\")\n",
    "    \n",
    "    onboarding_response = dydx_client.onboarding.create_user(\n",
    "        stark_public_key=public_x,\n",
    "        stark_public_key_y_coordinate=public_y,\n",
    "    ).data\n",
    "    print(\"Account onboarding response:\")\n",
    "    pprint(onboarding_response)\n",
    "    return\n",
    "\n",
    "secrets = {}\n",
    "# ensure that the secrests.json file contains `infura_ropsten_endpoint` attribute\n",
    "with open(\"secrets.json\") as secretfile:\n",
    "    secrets = json.load(secretfile)\n",
    "\n",
    "# ropsten check (with randomly generated ethereum address)\n",
    "onboard_initial_account(\n",
    "    generate_private_key(),\n",
    "    NETWORK_ID_ROPSTEN,\n",
    "    API_HOST_ROPSTEN\n",
    ")\n",
    "\n",
    "# # mainnet check\n",
    "# onboard_initial_account(\n",
    "#     secrets[\"eth_private_endpoint\"], # must provide a used account's private key, else get `DydxApiError(status_code=400, response={'errors': [{'msg': 'User wallet has no transactions, Ethereum or USDC'}]})`\n",
    "#     secrets[\"infura_mainnet_key\"],\n",
    "#     NETWORK_ID_MAINNET,\n",
    "#     API_HOST_MAINNET\n",
    "# )"
   ]
  },
  {
   "cell_type": "code",
   "execution_count": 19,
   "id": "c1856fb4",
   "metadata": {
    "scrolled": true
   },
   "outputs": [
    {
     "name": "stdout",
     "output_type": "stream",
     "text": [
      "Eth Address: 0x5763265928eA73F9f2090D7E39A17E34dA1D4BB5\n",
      "\n",
      "Eth private key: 0xcd76312715620f68cf8a650a8e404ad2484f478b029627b7d734c6c60c36aa87\n",
      "\n",
      "STARK private key: 0x1ad026b6d19b596459d7a94c9dee38bf86977e911e458556d58bdd7b5289ef9\n",
      "\n",
      "STARK (public x, public y): (0x5eabe831bddc373ad253fc863b39bdaa8859766d0e841f8d5ef6870c7911077,0x3bc3384191603e2f3e8e0cc514f6f577cfc70bfee27d10b59650b77b42e430d)\n",
      "\n",
      "Account onboarding response:\n",
      "{'account': {'accountNumber': '0',\n",
      "             'createdAt': '2022-01-07T03:41:30.201Z',\n",
      "             'equity': '0.000000',\n",
      "             'freeCollateral': '0.000000',\n",
      "             'id': '41eeb19c-d8c3-5fb7-aa6e-e71d74d6956f',\n",
      "             'openPositions': {},\n",
      "             'pendingDeposits': '0.000000',\n",
      "             'pendingWithdrawals': '0.000000',\n",
      "             'positionId': '57281',\n",
      "             'quoteBalance': '0.000000',\n",
      "             'starkKey': '05eabe831bddc373ad253fc863b39bdaa8859766d0e841f8d5ef6870c7911077'},\n",
      " 'apiKey': {'key': '3f037a3a-e681-cbe0-8d2b-2cd00d0e8c7c',\n",
      "            'passphrase': '6smtWg8GnBK3T8Zp_0VT',\n",
      "            'secret': 'vhMDpU5jGevy8-eY16eVnwF2Wb7zBZqdVLL-RZx-'},\n",
      " 'user': {'activeStakedDydxTokenBalance': '0.000000000000000000',\n",
      "          'country': None,\n",
      "          'dydxTokenBalance': '0.000000000000000000',\n",
      "          'email': None,\n",
      "          'ethereumAddress': '0x5763265928ea73f9f2090d7e39a17e34da1d4bb5',\n",
      "          'fees30D': '0',\n",
      "          'isEmailVerified': False,\n",
      "          'isRegistered': False,\n",
      "          'isSharingAddress': None,\n",
      "          'isSharingUsername': None,\n",
      "          'makerFeeRate': '0.00050',\n",
      "          'makerVolume30D': '0',\n",
      "          'referredByAffiliateLink': None,\n",
      "          'stakedDydxTokenBalance': '0.000000000000000000',\n",
      "          'takerFeeRate': '0.00100',\n",
      "          'takerVolume30D': '0',\n",
      "          'userData': {},\n",
      "          'username': None}}\n"
     ]
    }
   ],
   "source": [
    "priv_key1 = generate_private_key()\n",
    "onboard_initial_account(\n",
    "    priv_key1,\n",
    "    secrets[\"infura_ropsten_endpoint\"],\n",
    "    NETWORK_ID_ROPSTEN,\n",
    "    API_HOST_ROPSTEN\n",
    ")"
   ]
  },
  {
   "cell_type": "code",
   "execution_count": 41,
   "id": "ab7a45c0",
   "metadata": {},
   "outputs": [],
   "source": [
    "client1 = Client(\n",
    "    network_id=NETWORK_ID_ROPSTEN,\n",
    "    host=API_HOST_ROPSTEN,\n",
    "    default_ethereum_address=\"0x5763265928eA73F9f2090D7E39A17E34dA1D4BB5\",\n",
    "    api_key_credentials={\n",
    "        'key': '3f037a3a-e681-cbe0-8d2b-2cd00d0e8c7c',\n",
    "        'passphrase': '6smtWg8GnBK3T8Zp_0VT',\n",
    "        'secret': 'vhMDpU5jGevy8-eY16eVnwF2Wb7zBZqdVLL-RZx-'\n",
    "    },\n",
    "    \n",
    ")"
   ]
  },
  {
   "cell_type": "code",
   "execution_count": 43,
   "id": "a5b1e0e5",
   "metadata": {},
   "outputs": [
    {
     "data": {
      "text/plain": [
       "{'transfer': {'id': '8a3a5c6b-d9d1-591a-b383-3ca98006bfeb',\n",
       "  'type': 'TRANSFER_OUT',\n",
       "  'debitAsset': 'USDC',\n",
       "  'creditAsset': 'USDC',\n",
       "  'debitAmount': '2000',\n",
       "  'creditAmount': '0',\n",
       "  'transactionHash': None,\n",
       "  'status': 'PENDING',\n",
       "  'createdAt': '2022-01-07T04:15:45.909Z',\n",
       "  'confirmedAt': None,\n",
       "  'clientId': '7586c569be6ab9c7',\n",
       "  'fromAddress': None,\n",
       "  'toAddress': None}}"
      ]
     },
     "execution_count": 43,
     "metadata": {},
     "output_type": "execute_result"
    }
   ],
   "source": [
    "token_faucet_response = client1.private.request_testnet_tokens(); token_faucet_response.data"
   ]
  },
  {
   "cell_type": "code",
   "execution_count": 35,
   "id": "8aaf2a0a",
   "metadata": {},
   "outputs": [],
   "source": [
    "# token_faucet_response.data"
   ]
  },
  {
   "cell_type": "code",
   "execution_count": 38,
   "id": "6f942976",
   "metadata": {},
   "outputs": [],
   "source": [
    "# client1.private.get_account().data"
   ]
  },
  {
   "cell_type": "code",
   "execution_count": null,
   "id": "55c69645",
   "metadata": {},
   "outputs": [],
   "source": []
  }
 ],
 "metadata": {
  "kernelspec": {
   "display_name": "Python 3 (ipykernel)",
   "language": "python",
   "name": "python3"
  },
  "language_info": {
   "codemirror_mode": {
    "name": "ipython",
    "version": 3
   },
   "file_extension": ".py",
   "mimetype": "text/x-python",
   "name": "python",
   "nbconvert_exporter": "python",
   "pygments_lexer": "ipython3",
   "version": "3.9.3"
  }
 },
 "nbformat": 4,
 "nbformat_minor": 5
}
